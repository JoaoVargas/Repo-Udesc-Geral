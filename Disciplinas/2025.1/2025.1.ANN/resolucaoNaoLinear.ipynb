{
 "cells": [
  {
   "cell_type": "markdown",
   "id": "ebd76da0",
   "metadata": {},
   "source": [
    "# Resolução de Sistemas Não Lineares\n"
   ]
  },
  {
   "cell_type": "markdown",
   "id": "61a74698",
   "metadata": {},
   "source": [
    "Alunos: João Guilherme Vargas, Marco Antonio Reche Rigon"
   ]
  },
  {
   "cell_type": "markdown",
   "id": "d57e3c8e",
   "metadata": {},
   "source": [
    "\n",
    "Um sistema não linear é um conjunto de equações com múltiplas variáveis, onde pelo menos uma equação é não linear, ou seja, não pode ser descrito apenas com somas, subtrações e multiplicações por constantes. Não conseguimos usar métodos de resolução de sistemas lineares em sistemas não lineares. Podemos usar alguns métodos numéricos iterativos, destacando o método de Newton-Raphson\n",
    "\n",
    "Aqui nós iremos fazer a implementação desse método para a resolução de um sistema não linear qualquer em Python. O algoritmo usará Sympy para simbolizar as equações, e numpy para fazer o tratamento com os números. Vamos precisar importar ambos para o nosso ambiente."
   ]
  },
  {
   "cell_type": "code",
   "execution_count": 87,
   "id": "b94fef3e",
   "metadata": {},
   "outputs": [],
   "source": [
    "import numpy as np\n",
    "import sympy as sp"
   ]
  },
  {
   "cell_type": "markdown",
   "id": "992420a6",
   "metadata": {},
   "source": [
    "Segue também algumas funções que ajudarão na implementação."
   ]
  },
  {
   "cell_type": "code",
   "execution_count": 88,
   "id": "628d87b7",
   "metadata": {},
   "outputs": [],
   "source": [
    "'''\n",
    "    Descobre todas as variáveis livres de um sistema \n",
    "\n",
    "    Args:\n",
    "        F: O sistema, representado como uma lista com todas as funções no formato simbólico do Sympy\n",
    "    Retorno:\n",
    "        Lista com todas as variaveis do sistema\n",
    "'''\n",
    "def variaveis(F: list[sp.Expr]) -> list[sp.Symbol]:\n",
    "    allvars = [f.free_symbols for f in F]  # Cria uma lista com todas as variáveis de cada função\n",
    "    # Aqui nós unimos todas as variáveis de todas as funções, tirando redundancia, depois ordenamos e transformamos numa lista\n",
    "    return list(sorted(set.union(*allvars), key=str)) # type: ignore\n",
    "\n",
    "\n",
    "'''\n",
    "    Resolve numericamente o sistema\n",
    "    Args:\n",
    "        F: O sistema, representado como uma lista com todas as funções no formato simbólico do Sympy \n",
    "        X: O vetor solução\n",
    "'''\n",
    "def solve(F: list[sp.Expr], X: np.typing.NDArray) -> np.typing.NDArray:\n",
    "    vars = variaveis(F) # Pega todas as variáveis do sistema\n",
    "\n",
    "    if len(vars) < len(X): \n",
    "        print(\"Erro! Vetor solução possui mais entradas do que o sistema permite!\")\n",
    "        raise ArithmeticError\n",
    "    if len(vars) > len(X):\n",
    "        print(\"Erro! Vetor solução possui menos entradas do que o sistema precisa!\")\n",
    "\n",
    "    lF = [sp.lambdify(vars, f, \"numpy\") for f in F] # Transforma as funções do sistema numa função lambda\n",
    "    return np.array([f(*X) for f in lF]) # Retorna os valores da solução"
   ]
  },
  {
   "cell_type": "markdown",
   "id": "2ddc159c",
   "metadata": {},
   "source": [
    "\n",
    "## Método de Newton-Raphson\n"
   ]
  },
  {
   "cell_type": "markdown",
   "id": "b4c78c36",
   "metadata": {},
   "source": [
    "\n",
    "### Matriz Jacobiana\n"
   ]
  },
  {
   "cell_type": "markdown",
   "id": "283302f7",
   "metadata": {},
   "source": [
    "Antes de explicarmos como funciona o método de Newton-Raphson, vamos precisar explicar o que é uma matriz Jacobiana. Uma matriz Jacobiana é uma matriz com todas as derivadas parciais de um sistema de equação. Seja o sistema $F=\\{f_1,f_2,\\dots,f_n\\}$, em que cada função recebe as variáveis $\\{x_1,x_2,\\dots,x_n\\}$:\n",
    "\n",
    "$$\n",
    "J_F(x_1,\\dots,x_n)=\\frac{\\delta( f_1,\\dots, f_n)}{\\delta(x_1,\\dots,x_n)}=\n",
    "\\begin{bmatrix}\n",
    "\n",
    "\\frac{\\delta f_1}{\\delta x_1} & \\dots & \\frac{\\delta f_1}{\\delta x_n} \\\\\n",
    "\n",
    "\\vdots & \\ddots & \\vdots \\\\\n",
    "\n",
    "\\frac{\\delta f_m}{\\delta x_1} & \\dots & \\frac{\\delta f_m}{\\delta x_n}\n",
    "\n",
    "\\end{bmatrix}\n",
    "$$\n",
    "\n",
    "Abaixo nós temos uma implementação da obtenção da matriz Jacobiana. Temos duas funções, uma para obter todas as variáveis da função, e outra para obter a matriz Jacobiana em questão. A implementação da função para obter variáveis foi feita para simplificar a utilização do algoritmo para o usuário"
   ]
  },
  {
   "cell_type": "code",
   "execution_count": 89,
   "id": "1003125a",
   "metadata": {},
   "outputs": [],
   "source": [
    "'''\n",
    "    Retorna a Jacobiana de um sistema de funções.\n",
    "    Args:\n",
    "        F: O sistema, representado como uma lista com todas as funções no formato simbólico do Sympy\n",
    "    Retorno:\n",
    "        A matriz jacobiana, uma matriz com todas as derivadas parciais\n",
    "'''\n",
    "def jacobiana(F: list[sp.Expr]) -> list[list[sp.Expr]]:\n",
    "    J = []\n",
    "    derivadas = []\n",
    "\n",
    "    vars = variaveis(F) # Pegar todas as variáveis encontradas no sistema\n",
    "\n",
    "    for i in range(len(F)): # Começa a iterar pela lista de funções\n",
    "        for j in vars: # Começa a iterar pela lista de variáveis\n",
    "            derivadas.append(sp.diff(F[i], j)) # Adiciona numa lista a derivada parcial da função, para cada variável\n",
    "        J.append(derivadas)\n",
    "        derivadas = []\n",
    "\n",
    "    return J # Transforma a matriz de derivadas parciais numa matriz do SymPy"
   ]
  },
  {
   "cell_type": "markdown",
   "id": "7d9b375d",
   "metadata": {},
   "source": [
    "### Método de Newton-Raphson\n"
   ]
  },
  {
   "cell_type": "markdown",
   "id": "422e635c",
   "metadata": {},
   "source": [
    "\n",
    "Agora o método em questão. Vamos precisar seguir um passo a passo, que será repetido a cada iteração.\n",
    "Dados um sistema não linear $F$, uma estimativa inicial $x⁰$, $\\epsilon_1$, $\\epsilon_2 > 0$\n",
    "\n",
    "1. Calcular $F(x^k)$ e $J(x^k)$\n",
    "2. Se $\\|F(x^k)\\|_\\infin<\\epsilon_1$, então $x^*=x^k$ e pare; caso contrário, continue\n",
    "3. Obtenha $S^k$, solução do sistema linear $J(x^k).S^k=-F(x^k)$\n",
    "4. Faça: $x^{k+1}=x^k+S^k$\n",
    "5. Se $\\|x^{k+1}-x^k\\|_\\infin<\\epsilon_2$, faça $x^*=x^{k+1}$ e pare; caso contrário, continue\n",
    "6. $k=k+1$ e volte ao passo 1\n",
    "\n",
    "Segue o algoritmo implementado em Python:"
   ]
  },
  {
   "cell_type": "code",
   "execution_count": 90,
   "id": "1689515d",
   "metadata": {},
   "outputs": [],
   "source": [
    "'''\n",
    "    Descobrir os zeros das funções em um sistema não linear, aplicando o método de Newton-Raphson\n",
    "\n",
    "    Args:\n",
    "        F: O sistema não linear, representado por uma lista com as funções em formato simbólico do Sympy \n",
    "        estimativa: Uma lista com as estimativas iniciais\n",
    "        epsilon1: Primeiro critério de parada (Fxk < epsilon)\n",
    "        epsilon2: Segundo critério de parada (xk1 - xk < epsilon)\n",
    "        maximoIteracoes: Maximo de iterações desejada [opcional]\n",
    "        verbose: Verdadeiro caso queira descrição maior de como foi o ciclo de iterações\n",
    "    \n",
    "    Retorno:\n",
    "        Um array numpy com os zeros das funções no sistema não linear F\n",
    "'''\n",
    "def newtonRaphson(F: list[sp.Expr], estimativa: np.typing.NDArray, epsilon1 = 10**-3, epsilon2 = 10**-3, maximoIteracoes=500, verbose=False) -> np.typing.NDArray[np.float64]:\n",
    "    if len(F) != len(estimativa): # Verifica se o sistema tem tamanho diferente da estimativa inicial\n",
    "        print(\"Tamanho da estimativa é diferente do sistema!\")\n",
    "        raise ArithmeticError # Levanta erro aritmético\n",
    "    \n",
    "    vars = variaveis(F) # Pega todas as variáveis do sistema de funções\n",
    "\n",
    "    if len(estimativa) != len(vars): # Verifica se a quantidade de variáveis no sistema bate com a quantidade de valores na estimativa\n",
    "        print(\"Estimativa inicial tem mais variáveis do que o sistema permite\")\n",
    "        raise ArithmeticError\n",
    "    \n",
    "    Fxk = np.array([])\n",
    "    Jxk = np.array([])\n",
    "    xk = np.array([np.float64(i) for i in estimativa]) # Transcrevendo a estimativa inicial para xk, para simplificar a leitura do algoritmo\n",
    "    J = jacobiana(F) # Calcula a jacobiana da função\n",
    "    if verbose:\n",
    "        print(f'Variáveis encontradas: {vars}')\n",
    "        print(f'Matriz Jacobiana: {J}')\n",
    "    lF = [sp.lambdify(vars, f, \"numpy\") for f in F] # Transforma todos os símbolos em F para funções lambda\n",
    "    lJ = [[sp.lambdify(vars, f, \"numpy\") for f in j] for j in J] # Transforma todos os símbolos em J para funções lambda\n",
    "\n",
    "    # Começa as iterações\n",
    "    for n in range(maximoIteracoes): # Critério de parada, para evitar infinitas iterações\n",
    "        Fxk = np.array([f(*xk) for f in lF]) # Pegamos os resultados do sistema F\n",
    "        Jxk = np.array([[f(*xk) for f in j] for j in lJ]) # Pegamos os resultados das funções da matriz Jacobiana\n",
    "\n",
    "        if np.linalg.norm(Fxk, np.inf) < epsilon1: # Primeiro critério de parada, verifica se algum resultado Fxk é menor que o primeiro epsilon\n",
    "            if verbose:\n",
    "                print(f\"Encontrado zero das funções no ciclo {n+1}: {sp.pprint(xk)}\")\n",
    "            return xk\n",
    "        \n",
    "        Sk = np.linalg.solve(Jxk, -Fxk) # Resolução do sistema linear\n",
    "        xk1 = xk+Sk # Reescrevendo xk1\n",
    "        if np.linalg.norm(xk1 - xk, np.inf) < epsilon2: # Segundo critério de parada, verifica se a diferença para o resultado anterior é menor que epsilon\n",
    "            if verbose:\n",
    "                print(f\"Encontrado zero das funções no ciclo {n+1}: {xk}\")\n",
    "            return xk1\n",
    "        \n",
    "        if verbose:\n",
    "            print(f\"Matriz resposta no ciclo {n+1}: {xk}\")\n",
    "        xk = xk1 # Preparando para a próxima iteração\n",
    "\n",
    "    print(\"Máximo de iterações ultrapassado!\")\n",
    "    if verbose:\n",
    "        print(\"Matriz resposta encontrada: {xk}\")\n",
    "    return xk"
   ]
  },
  {
   "cell_type": "markdown",
   "id": "fd171b38",
   "metadata": {},
   "source": [
    "## Solução de Sistemas"
   ]
  },
  {
   "cell_type": "markdown",
   "id": "6c3ff0ab",
   "metadata": {},
   "source": [
    "Agora nós temos tudo necessário para aplicar o método. Vamos testar com os seguintes sistemas:\n"
   ]
  },
  {
   "cell_type": "markdown",
   "id": "9ed80da4",
   "metadata": {},
   "source": [
    "### Sistema 1\n"
   ]
  },
  {
   "cell_type": "markdown",
   "id": "0df15721",
   "metadata": {},
   "source": [
    "\n",
    "$$\n",
    "\\begin{cases}\n",
    "\n",
    "F_1(x_1,x_2)=\\sin(x_1)+x_2^2-1=0 \\\\\n",
    "F_2(x_1,x_2)=x_1^2+\\cos(x_2)-2=0 \\\\\n",
    "\n",
    "\\end{cases}\\\\\n",
    "x^0=\\begin{pmatrix}\n",
    "0,5\\\\0,5\n",
    "\\end{pmatrix} \\\\\n",
    "\n",
    "\\epsilon_1=\\epsilon_2=10^{-3}\n",
    "\n",
    "\\\\~\\\\\\text{Resposta Esperada}\\\\~\\\\\n",
    "\n",
    "x_4^*=\\begin{pmatrix}\n",
    "1,034\\\\0,375\n",
    "\\end{pmatrix}\n",
    "$$"
   ]
  },
  {
   "cell_type": "code",
   "execution_count": 91,
   "id": "1cb14b87",
   "metadata": {},
   "outputs": [
    {
     "name": "stdout",
     "output_type": "stream",
     "text": [
      "Variáveis encontradas: [x1, x2]\n",
      "Matriz Jacobiana: [[cos(x1), 2*x2], [2*x1, -sin(x2)]]\n",
      "Matriz resposta no ciclo 1: [0.5 0.5]\n",
      "Matriz resposta no ciclo 2: [1.20536546 0.15155803]\n",
      "Matriz resposta no ciclo 3: [1.04312522 0.48488618]\n",
      "Matriz resposta no ciclo 4: [1.03433425 0.38726511]\n",
      "[1.03415167 0.37512454]\n",
      "Encontrado zero das funções no ciclo 5: None\n",
      "[1.03415167 0.37512454]\n"
     ]
    }
   ],
   "source": [
    "x1, x2 = sp.symbols('x1 x2')\n",
    "print(newtonRaphson([sp.sin(x1)+x2**2-1, x1**2+sp.cos(x2)-2],np.array([0.5,0.5]), verbose=True))"
   ]
  },
  {
   "cell_type": "markdown",
   "id": "e4251e33",
   "metadata": {},
   "source": [
    "Ótimo! A resposta chegou no resultado esperado. Vamos testar com outro sistema"
   ]
  },
  {
   "cell_type": "markdown",
   "id": "6e5756fe",
   "metadata": {},
   "source": [
    "### Sistema 2"
   ]
  },
  {
   "cell_type": "code",
   "execution_count": 92,
   "id": "4ef98f3d",
   "metadata": {},
   "outputs": [
    {
     "data": {
      "text/plain": [
       "array([1.54211646, 4.7562461 ])"
      ]
     },
     "execution_count": 92,
     "metadata": {},
     "output_type": "execute_result"
    }
   ],
   "source": [
    "x1, x2 = sp.symbols('x1 x2')\n",
    "F = [\n",
    "    x1**2+x2**2-25,\n",
    "    2*x1**2-x2\n",
    "]\n",
    "x0 = np.array([3.0,4.0])\n",
    "newtonRaphson(F, x0)"
   ]
  },
  {
   "cell_type": "markdown",
   "id": "c94da074",
   "metadata": {},
   "source": [
    "### Sistema 3"
   ]
  },
  {
   "cell_type": "code",
   "execution_count": 93,
   "id": "c51d13e3",
   "metadata": {},
   "outputs": [
    {
     "name": "stdout",
     "output_type": "stream",
     "text": [
      "[0.99970847 1.00053483]\n"
     ]
    }
   ],
   "source": [
    "x1, x2 = sp.symbols('x1 x2')\n",
    "F = [\n",
    "    x1**2+x2**2-2,\n",
    "    sp.exp(x1-1)+x2**3-2\n",
    "]\n",
    "x0 = np.array([1.5,2.0])\n",
    "print(newtonRaphson(F, x0, 10**-2,10**-2))"
   ]
  },
  {
   "cell_type": "markdown",
   "id": "0d4bc583",
   "metadata": {},
   "source": [
    "Maravilha, as respostas estão batendo! Vamos agora colocar em prova com o sistema que será avaliado.\n"
   ]
  },
  {
   "cell_type": "markdown",
   "id": "4c63732b",
   "metadata": {},
   "source": [
    "\n",
    "### Sistema Avaliador\n"
   ]
  },
  {
   "cell_type": "markdown",
   "id": "6a36777c",
   "metadata": {},
   "source": [
    "\n",
    "$$\n",
    "x^0=\\begin{pmatrix}0.1\\\\0.1\\\\-0.1\\end{pmatrix}^t \\\\~\\\\\n",
    "\n",
    "\\begin{cases}\n",
    "3x_1+\\cos(x_2x_3)-\\frac12=0\\\\\n",
    "(x_1)^2-81(x_2+0.1)^2+\\sin x_3+1.06 = 0\\\\\n",
    "e^{-x_1x_2}+20x_3+\\frac{10\\pi-3}{3}=0\n",
    "\\end{cases}\\\\~\\\\\n",
    "\n",
    "\n",
    "\\text{Resposta esperada:}\\\\\n",
    "\\begin{pmatrix}0.5\\\\0\\\\-0.52359877\\end{pmatrix}\n",
    "$$\n",
    "\n",
    "Não foi passado nenhum $\\epsilon$, vamos chutar alguns valores até acertarmos. Vamos usar um lista de possíveis $\\epsilon$, indo de $10^0$ até $10^-6$. Qualquer valor maior vai ser grande demais para um $\\epsilon$, qualquer valor menor vai ajudar a chegar num valor mais preciso, mas não vai ser tão significativo a ponto de encontrar a resposta esperada. Para auxiliar a visualização, vamos criar uma função dedicada a isso."
   ]
  },
  {
   "cell_type": "code",
   "execution_count": null,
   "id": "4fe76ba0",
   "metadata": {},
   "outputs": [],
   "source": [
    "'''\n",
    "     Chama a função Newton-Raphson diversas vezes, testando diferentes epsilons até chegarmos num valor próximo o suficiente\n",
    "\n",
    "     Args:\n",
    "          F: O sistema de funções\n",
    "          X: O vetor de variáveis a ser testado\n",
    "          esperado: Retorno esperado da chamada do Newton-Raphson\n",
    "          epsilons: Lista com os possíveis epsilons a serem testados\n",
    "          verbose: Se queremos com texto explicativo ou não\n",
    "'''\n",
    "\n",
    "def acharEpsilons(F: list[sp.Expr], X: np.typing.NDArray, esperado:np.typing.NDArray, epsilons: np.typing.NDArray, verbose=False) -> np.typing.NDArray:\n",
    "     for i in epsilons:\n",
    "          for j in epsilons:\n",
    "               resp = newtonRaphson(F, X, epsilon1=i, epsilon2=j) # Chama a função Newton-Raphson com valores novos de epsilon\n",
    "               if verbose:\n",
    "                    print(f\"Resposta para epsilon 1 = {i} e epsilon 2 = {j} \\t{resp}\")\n",
    "               if np.allclose(esperado, resp): # Verifica se todos os valores obtidos possuem uma diferença de mais ou menos 10e-8\n",
    "                    if verbose:\n",
    "                         print(f\"Valores de epsilon encontrados!\\nEpsilon 1: {i}\\nEpsilon 2: {j}\")\n",
    "                    return np.array([i,j]) # Se os valores forem próximos o suficiente, retornar os epsilons\n",
    "     if verbose:\n",
    "          print(\"Vetor solução não é válido!\")\n",
    "     return np.array([None,None]) # Se não achar, retornar epsilons vazios.\n"
   ]
  },
  {
   "cell_type": "code",
   "execution_count": 102,
   "id": "9d01f842",
   "metadata": {},
   "outputs": [
    {
     "name": "stdout",
     "output_type": "stream",
     "text": [
      "[None None]\n",
      "[-0.16665665 -0.01480728 -0.52347554]\n"
     ]
    }
   ],
   "source": [
    "\n",
    "x1,x2,x3 = sp.symbols('x1 x2 x3')\n",
    "x0 = np.array([0.1,0.1,-0.1])\n",
    "F = [\n",
    "     3*x1 + sp.cos(x2*x3) - 1/2,\n",
    "     x1**2 - 81*(x2+0.1)**2 + sp.sin(x3) + 1.06,\n",
    "     sp.exp(-x1*x2) + 20*x3 + (10*sp.pi-3)/3\n",
    "]\n",
    "esperado = np.array([0.5,0,-0.52359877])\n",
    "epsilons = np.array([10e-1, 10e-2, 10e-3, 10e-4, 10e-5, 10e-6, 10e-7])\n",
    "\n",
    "\n",
    "print(acharEpsilons(F, x0, esperado, epsilons))\n",
    "print(newtonRaphson(F, x0))"
   ]
  },
  {
   "cell_type": "markdown",
   "id": "584d9b8c",
   "metadata": {},
   "source": [
    "Como podemos ver pela resposta, $\\begin{pmatrix}0.5&0&-0.52359877\\end{pmatrix}$ não é o vetor solução do sistema. O vetor solução do sistema é $\\begin{pmatrix}-0.16665665&-0.01480728&-0.52347554\\end{pmatrix}$. Para provar ainda mais, vamos passar ambas soluções como valores para as funções."
   ]
  },
  {
   "cell_type": "code",
   "execution_count": 96,
   "id": "08cd4eda",
   "metadata": {},
   "outputs": [
    {
     "name": "stdout",
     "output_type": "stream",
     "text": [
      "Resposta com valores obtidos:[ 9.22070142e-09 -5.94876387e-07  2.26323108e-08]\n",
      "Resposta com valores esperados:[2.00000000e+00 4.84826890e-09 1.11965978e-07]\n"
     ]
    }
   ],
   "source": [
    "resultado = np.array([-0.16665665, -0.01480728, -0.52347554])\n",
    "print(f\"Resposta com valores obtidos:{solve(F, resultado)}\")\n",
    "print(f\"Resposta com valores esperados:{solve(F, esperado)}\")"
   ]
  },
  {
   "cell_type": "markdown",
   "id": "59114dda",
   "metadata": {},
   "source": [
    "Como podemos ver, o resultado obtido dá uma resposta muito mais próxima de $0$ para todas as funções. Vamos tentar modificar o sistema para ver se o vetor esperado funciona? Na resposta com os valores esperados, $x_2$ e $x_3$ são bem próximos de $0$. Próximos o suficiente para assumirmos que estão certos. Mas a resposta da primeira função dá $2$. E se subtrairmos $2$ da primeira função para termos 0?"
   ]
  },
  {
   "cell_type": "code",
   "execution_count": 97,
   "id": "e32feee6",
   "metadata": {},
   "outputs": [
    {
     "data": {
      "text/plain": [
       "array([ 4.99999887e-01,  1.24118780e-05, -5.23598449e-01])"
      ]
     },
     "execution_count": 97,
     "metadata": {},
     "output_type": "execute_result"
    }
   ],
   "source": [
    "F = [\n",
    "     3*x1 + sp.cos(x2*x3) - 1/2 -2,\n",
    "     x1**2 - 81*(x2+0.1)**2 + sp.sin(x3) + 1.06,\n",
    "     sp.exp(-x1*x2) + 20*x3 + (10*sp.pi-3)/3\n",
    "]\n",
    "\n",
    "newtonRaphson(F, x0)"
   ]
  },
  {
   "cell_type": "markdown",
   "id": "af979424",
   "metadata": {},
   "source": [
    "Podemos ver agora que modificando a primeira função nós temos uma resposta muito mais próxima do que esperado. Vamos testar com aquele verificador"
   ]
  },
  {
   "cell_type": "code",
   "execution_count": 98,
   "id": "f8583388",
   "metadata": {},
   "outputs": [
    {
     "data": {
      "text/plain": [
       "array([0.0001, 0.001 ])"
      ]
     },
     "execution_count": 98,
     "metadata": {},
     "output_type": "execute_result"
    }
   ],
   "source": [
    "acharEpsilons(F, x0, esperado, epsilons)"
   ]
  },
  {
   "cell_type": "markdown",
   "id": "932eac81",
   "metadata": {},
   "source": [
    "### Conclusão\n",
    "\n",
    "O método de Newton Raphson implementado funciona nos testes passados. O sistema avaliado não possui como resposta o vetor solução passado. Contudo, podemos modificar o sistema para vetor solução ser correto, dando uns dos possíveis epsilons $\\epsilon_1 = 10^{-4}$ e $\\epsilon_2 = 10^{-3}$."
   ]
  }
 ],
 "metadata": {
  "kernelspec": {
   "display_name": "ann",
   "language": "python",
   "name": "python3"
  },
  "language_info": {
   "codemirror_mode": {
    "name": "ipython",
    "version": 3
   },
   "file_extension": ".py",
   "mimetype": "text/x-python",
   "name": "python",
   "nbconvert_exporter": "python",
   "pygments_lexer": "ipython3",
   "version": "3.13.3"
  }
 },
 "nbformat": 4,
 "nbformat_minor": 5
}
